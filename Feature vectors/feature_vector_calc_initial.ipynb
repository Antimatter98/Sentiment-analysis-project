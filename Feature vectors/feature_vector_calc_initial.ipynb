{
 "cells": [
  {
   "cell_type": "code",
   "execution_count": 23,
   "metadata": {},
   "outputs": [],
   "source": [
    "import pandas as pd\n",
    "import numpy as np"
   ]
  },
  {
   "cell_type": "code",
   "execution_count": 2,
   "metadata": {},
   "outputs": [],
   "source": [
    "df = pd.read_excel('D:\\\\testfinal2.xlsx')"
   ]
  },
  {
   "cell_type": "code",
   "execution_count": 5,
   "metadata": {},
   "outputs": [
    {
     "data": {
      "text/plain": [
       "array(['Farms', 'Beaches', 'Points of Interest & Landmarks',\n",
       "       'Neighbourhoods', 'Architectural Buildings',\n",
       "       'Sacred & Religious Sites', 'Historic Sites',\n",
       "       'Churches & Cathedrals', 'Waterfalls', 'Military Museums',\n",
       "       'Flea & Street Markets', 'Casinos', 'Lighthouses', 'Ancient Ruins',\n",
       "       'Bodies of Water', 'Shopping Malls', 'Other Food & Drink',\n",
       "       'Islands', 'Speciality Museums', 'Art Galleries', 'Theatres',\n",
       "       'Dams', 'Nature & Wildlife Areas', 'Libraries', 'Parks',\n",
       "       'Historic Walking Areas', 'National Parks', 'Science Museums',\n",
       "       'Beach & Pool Clubs', 'Gardens', 'History Museums',\n",
       "       'Music Festivals', 'Water Parks', 'Zoos', 'Monuments & Statues',\n",
       "       'Other Ranches & Farms', 'Scenic Walking Areas', 'Caverns & Caves',\n",
       "       'Observatories & Planetariums', 'Sports Complexes', 'Aquariums',\n",
       "       'Antique Stores', 'Arenas & Stadiums'], dtype=object)"
      ]
     },
     "execution_count": 5,
     "metadata": {},
     "output_type": "execute_result"
    }
   ],
   "source": [
    "df.category.unique()"
   ]
  },
  {
   "cell_type": "code",
   "execution_count": 6,
   "metadata": {},
   "outputs": [],
   "source": [
    "lst = []"
   ]
  },
  {
   "cell_type": "code",
   "execution_count": 20,
   "metadata": {},
   "outputs": [],
   "source": [
    "lst = df.category.unique()"
   ]
  },
  {
   "cell_type": "code",
   "execution_count": 21,
   "metadata": {},
   "outputs": [
    {
     "data": {
      "text/plain": [
       "numpy.ndarray"
      ]
     },
     "execution_count": 21,
     "metadata": {},
     "output_type": "execute_result"
    }
   ],
   "source": [
    "type(lst)"
   ]
  },
  {
   "cell_type": "code",
   "execution_count": 24,
   "metadata": {},
   "outputs": [],
   "source": [
    "lst = np.ndarray.tolist(lst)"
   ]
  },
  {
   "cell_type": "code",
   "execution_count": 25,
   "metadata": {
    "scrolled": true
   },
   "outputs": [
    {
     "data": {
      "text/plain": [
       "['Farms',\n",
       " 'Beaches',\n",
       " 'Points of Interest & Landmarks',\n",
       " 'Neighbourhoods',\n",
       " 'Architectural Buildings',\n",
       " 'Sacred & Religious Sites',\n",
       " 'Historic Sites',\n",
       " 'Churches & Cathedrals',\n",
       " 'Waterfalls',\n",
       " 'Military Museums',\n",
       " 'Flea & Street Markets',\n",
       " 'Casinos',\n",
       " 'Lighthouses',\n",
       " 'Ancient Ruins',\n",
       " 'Bodies of Water',\n",
       " 'Shopping Malls',\n",
       " 'Other Food & Drink',\n",
       " 'Islands',\n",
       " 'Speciality Museums',\n",
       " 'Art Galleries',\n",
       " 'Theatres',\n",
       " 'Dams',\n",
       " 'Nature & Wildlife Areas',\n",
       " 'Libraries',\n",
       " 'Parks',\n",
       " 'Historic Walking Areas',\n",
       " 'National Parks',\n",
       " 'Science Museums',\n",
       " 'Beach & Pool Clubs',\n",
       " 'Gardens',\n",
       " 'History Museums',\n",
       " 'Music Festivals',\n",
       " 'Water Parks',\n",
       " 'Zoos',\n",
       " 'Monuments & Statues',\n",
       " 'Other Ranches & Farms',\n",
       " 'Scenic Walking Areas',\n",
       " 'Caverns & Caves',\n",
       " 'Observatories & Planetariums',\n",
       " 'Sports Complexes',\n",
       " 'Aquariums',\n",
       " 'Antique Stores',\n",
       " 'Arenas & Stadiums']"
      ]
     },
     "execution_count": 25,
     "metadata": {},
     "output_type": "execute_result"
    }
   ],
   "source": [
    "lst"
   ]
  },
  {
   "cell_type": "code",
   "execution_count": 26,
   "metadata": {},
   "outputs": [
    {
     "data": {
      "text/plain": [
       "43"
      ]
     },
     "execution_count": 26,
     "metadata": {},
     "output_type": "execute_result"
    }
   ],
   "source": [
    "len(lst)"
   ]
  },
  {
   "cell_type": "code",
   "execution_count": 39,
   "metadata": {},
   "outputs": [],
   "source": [
    "for i in lst:\n",
    "    ct = 0\n",
    "    re = 0\n",
    "    rev = 0\n",
    "    for j in range(0, len(df)):\n",
    "        if(df.category[j] == i):\n",
    "            re = re + df.ratings[j]\n",
    "            ct = ct + 1\n",
    "    rev = re*1.0/ct\n",
    "    rel.append(rev)\n",
    "    totalrev.append(ct)"
   ]
  },
  {
   "cell_type": "code",
   "execution_count": 34,
   "metadata": {},
   "outputs": [
    {
     "data": {
      "text/plain": [
       "numpy.int64"
      ]
     },
     "execution_count": 34,
     "metadata": {},
     "output_type": "execute_result"
    }
   ],
   "source": [
    "type(df.ratings[0])"
   ]
  },
  {
   "cell_type": "code",
   "execution_count": 37,
   "metadata": {},
   "outputs": [],
   "source": [
    "rel = []\n",
    "totalrev = []"
   ]
  },
  {
   "cell_type": "code",
   "execution_count": 40,
   "metadata": {
    "scrolled": true
   },
   "outputs": [
    {
     "data": {
      "text/plain": [
       "[3.9096325719960277,\n",
       " 4.205739299610895,\n",
       " 4.094958968347011,\n",
       " 4.34412955465587,\n",
       " 4.362091084028223,\n",
       " 4.390104662226451,\n",
       " 4.182749786507259,\n",
       " 4.312437810945274,\n",
       " 4.361836183618362,\n",
       " 4.315789473684211,\n",
       " 4.031466913465988,\n",
       " 3.8411732152739346,\n",
       " 3.935560859188544,\n",
       " 3.952851711026616,\n",
       " 4.030042918454936,\n",
       " 3.557603686635945,\n",
       " 4.5,\n",
       " 4.154471544715447,\n",
       " 4.066901408450704,\n",
       " 4.378504672897196,\n",
       " 4.379310344827586,\n",
       " 4.391304347826087,\n",
       " 3.8996960486322187,\n",
       " 4.518518518518518,\n",
       " 3.732394366197183,\n",
       " 4.0,\n",
       " 4.146341463414634,\n",
       " 3.8979591836734695,\n",
       " 4.28125,\n",
       " 3.8181818181818183,\n",
       " 3.7333333333333334,\n",
       " 4.363636363636363,\n",
       " 3.5454545454545454,\n",
       " 4.75,\n",
       " 3.9047619047619047,\n",
       " 4.571428571428571,\n",
       " 3.75,\n",
       " 3.5,\n",
       " 4.0,\n",
       " 3.6,\n",
       " 3.3157894736842106,\n",
       " 5.0,\n",
       " 3.0]"
      ]
     },
     "execution_count": 40,
     "metadata": {},
     "output_type": "execute_result"
    }
   ],
   "source": [
    "rel"
   ]
  },
  {
   "cell_type": "code",
   "execution_count": 41,
   "metadata": {
    "scrolled": true
   },
   "outputs": [
    {
     "data": {
      "text/plain": [
       "[1007,\n",
       " 28784,\n",
       " 2559,\n",
       " 1235,\n",
       " 3118,\n",
       " 1051,\n",
       " 1171,\n",
       " 1005,\n",
       " 1111,\n",
       " 152,\n",
       " 2161,\n",
       " 1807,\n",
       " 419,\n",
       " 1315,\n",
       " 233,\n",
       " 217,\n",
       " 66,\n",
       " 123,\n",
       " 284,\n",
       " 214,\n",
       " 58,\n",
       " 46,\n",
       " 329,\n",
       " 27,\n",
       " 71,\n",
       " 42,\n",
       " 41,\n",
       " 49,\n",
       " 32,\n",
       " 66,\n",
       " 45,\n",
       " 11,\n",
       " 99,\n",
       " 8,\n",
       " 21,\n",
       " 7,\n",
       " 8,\n",
       " 8,\n",
       " 2,\n",
       " 5,\n",
       " 38,\n",
       " 1,\n",
       " 5]"
      ]
     },
     "execution_count": 41,
     "metadata": {},
     "output_type": "execute_result"
    }
   ],
   "source": [
    "totalrev"
   ]
  },
  {
   "cell_type": "code",
   "execution_count": 55,
   "metadata": {},
   "outputs": [],
   "source": [
    "place_counts = []\n",
    "for i in lst:\n",
    "    ct = 0\n",
    "    place = []\n",
    "    for j in range(0, len(df)):\n",
    "        if(df.category[j] == i):\n",
    "            place.append(df.place[j])\n",
    "    place = np.asarray(place)\n",
    "    ct = len(np.unique(place))\n",
    "    place_counts.append(ct)"
   ]
  },
  {
   "cell_type": "code",
   "execution_count": 56,
   "metadata": {
    "scrolled": true
   },
   "outputs": [
    {
     "data": {
      "text/plain": [
       "[7,\n",
       " 65,\n",
       " 34,\n",
       " 2,\n",
       " 9,\n",
       " 32,\n",
       " 14,\n",
       " 35,\n",
       " 7,\n",
       " 1,\n",
       " 8,\n",
       " 11,\n",
       " 1,\n",
       " 2,\n",
       " 7,\n",
       " 6,\n",
       " 3,\n",
       " 6,\n",
       " 9,\n",
       " 13,\n",
       " 1,\n",
       " 2,\n",
       " 11,\n",
       " 1,\n",
       " 3,\n",
       " 1,\n",
       " 1,\n",
       " 1,\n",
       " 1,\n",
       " 3,\n",
       " 1,\n",
       " 1,\n",
       " 3,\n",
       " 1,\n",
       " 4,\n",
       " 1,\n",
       " 1,\n",
       " 2,\n",
       " 1,\n",
       " 1,\n",
       " 2,\n",
       " 1,\n",
       " 1]"
      ]
     },
     "execution_count": 56,
     "metadata": {},
     "output_type": "execute_result"
    }
   ],
   "source": [
    "place_counts"
   ]
  },
  {
   "cell_type": "code",
   "execution_count": 50,
   "metadata": {},
   "outputs": [],
   "source": [
    "place = df.place.unique()"
   ]
  },
  {
   "cell_type": "code",
   "execution_count": 51,
   "metadata": {},
   "outputs": [
    {
     "data": {
      "text/plain": [
       "numpy.ndarray"
      ]
     },
     "execution_count": 51,
     "metadata": {},
     "output_type": "execute_result"
    }
   ],
   "source": [
    "type(place)"
   ]
  },
  {
   "cell_type": "code",
   "execution_count": 42,
   "metadata": {},
   "outputs": [],
   "source": [
    "ls2 = [df.category, df.ratings]"
   ]
  },
  {
   "cell_type": "code",
   "execution_count": 44,
   "metadata": {},
   "outputs": [],
   "source": [
    "dt = {'category':lst, 'avg_reating':rel, 'total_rev':totalrev}"
   ]
  },
  {
   "cell_type": "code",
   "execution_count": 45,
   "metadata": {},
   "outputs": [
    {
     "data": {
      "text/plain": [
       "{'category': ['Farms',\n",
       "  'Beaches',\n",
       "  'Points of Interest & Landmarks',\n",
       "  'Neighbourhoods',\n",
       "  'Architectural Buildings',\n",
       "  'Sacred & Religious Sites',\n",
       "  'Historic Sites',\n",
       "  'Churches & Cathedrals',\n",
       "  'Waterfalls',\n",
       "  'Military Museums',\n",
       "  'Flea & Street Markets',\n",
       "  'Casinos',\n",
       "  'Lighthouses',\n",
       "  'Ancient Ruins',\n",
       "  'Bodies of Water',\n",
       "  'Shopping Malls',\n",
       "  'Other Food & Drink',\n",
       "  'Islands',\n",
       "  'Speciality Museums',\n",
       "  'Art Galleries',\n",
       "  'Theatres',\n",
       "  'Dams',\n",
       "  'Nature & Wildlife Areas',\n",
       "  'Libraries',\n",
       "  'Parks',\n",
       "  'Historic Walking Areas',\n",
       "  'National Parks',\n",
       "  'Science Museums',\n",
       "  'Beach & Pool Clubs',\n",
       "  'Gardens',\n",
       "  'History Museums',\n",
       "  'Music Festivals',\n",
       "  'Water Parks',\n",
       "  'Zoos',\n",
       "  'Monuments & Statues',\n",
       "  'Other Ranches & Farms',\n",
       "  'Scenic Walking Areas',\n",
       "  'Caverns & Caves',\n",
       "  'Observatories & Planetariums',\n",
       "  'Sports Complexes',\n",
       "  'Aquariums',\n",
       "  'Antique Stores',\n",
       "  'Arenas & Stadiums'],\n",
       " 'avg_reating': [3.9096325719960277,\n",
       "  4.205739299610895,\n",
       "  4.094958968347011,\n",
       "  4.34412955465587,\n",
       "  4.362091084028223,\n",
       "  4.390104662226451,\n",
       "  4.182749786507259,\n",
       "  4.312437810945274,\n",
       "  4.361836183618362,\n",
       "  4.315789473684211,\n",
       "  4.031466913465988,\n",
       "  3.8411732152739346,\n",
       "  3.935560859188544,\n",
       "  3.952851711026616,\n",
       "  4.030042918454936,\n",
       "  3.557603686635945,\n",
       "  4.5,\n",
       "  4.154471544715447,\n",
       "  4.066901408450704,\n",
       "  4.378504672897196,\n",
       "  4.379310344827586,\n",
       "  4.391304347826087,\n",
       "  3.8996960486322187,\n",
       "  4.518518518518518,\n",
       "  3.732394366197183,\n",
       "  4.0,\n",
       "  4.146341463414634,\n",
       "  3.8979591836734695,\n",
       "  4.28125,\n",
       "  3.8181818181818183,\n",
       "  3.7333333333333334,\n",
       "  4.363636363636363,\n",
       "  3.5454545454545454,\n",
       "  4.75,\n",
       "  3.9047619047619047,\n",
       "  4.571428571428571,\n",
       "  3.75,\n",
       "  3.5,\n",
       "  4.0,\n",
       "  3.6,\n",
       "  3.3157894736842106,\n",
       "  5.0,\n",
       "  3.0],\n",
       " 'total_rev': [1007,\n",
       "  28784,\n",
       "  2559,\n",
       "  1235,\n",
       "  3118,\n",
       "  1051,\n",
       "  1171,\n",
       "  1005,\n",
       "  1111,\n",
       "  152,\n",
       "  2161,\n",
       "  1807,\n",
       "  419,\n",
       "  1315,\n",
       "  233,\n",
       "  217,\n",
       "  66,\n",
       "  123,\n",
       "  284,\n",
       "  214,\n",
       "  58,\n",
       "  46,\n",
       "  329,\n",
       "  27,\n",
       "  71,\n",
       "  42,\n",
       "  41,\n",
       "  49,\n",
       "  32,\n",
       "  66,\n",
       "  45,\n",
       "  11,\n",
       "  99,\n",
       "  8,\n",
       "  21,\n",
       "  7,\n",
       "  8,\n",
       "  8,\n",
       "  2,\n",
       "  5,\n",
       "  38,\n",
       "  1,\n",
       "  5]}"
      ]
     },
     "execution_count": 45,
     "metadata": {},
     "output_type": "execute_result"
    }
   ],
   "source": [
    "dt"
   ]
  },
  {
   "cell_type": "code",
   "execution_count": 57,
   "metadata": {
    "scrolled": true
   },
   "outputs": [
    {
     "data": {
      "text/plain": [
       "[{'category': 'Farms',\n",
       "  'total_places': 7,\n",
       "  'avg_reating': 3.9096325719960277,\n",
       "  'total_rev': 1007},\n",
       " {'category': 'Beaches',\n",
       "  'total_places': 65,\n",
       "  'avg_reating': 4.205739299610895,\n",
       "  'total_rev': 28784},\n",
       " {'category': 'Points of Interest & Landmarks',\n",
       "  'total_places': 34,\n",
       "  'avg_reating': 4.094958968347011,\n",
       "  'total_rev': 2559},\n",
       " {'category': 'Neighbourhoods',\n",
       "  'total_places': 2,\n",
       "  'avg_reating': 4.34412955465587,\n",
       "  'total_rev': 1235},\n",
       " {'category': 'Architectural Buildings',\n",
       "  'total_places': 9,\n",
       "  'avg_reating': 4.362091084028223,\n",
       "  'total_rev': 3118},\n",
       " {'category': 'Sacred & Religious Sites',\n",
       "  'total_places': 32,\n",
       "  'avg_reating': 4.390104662226451,\n",
       "  'total_rev': 1051},\n",
       " {'category': 'Historic Sites',\n",
       "  'total_places': 14,\n",
       "  'avg_reating': 4.182749786507259,\n",
       "  'total_rev': 1171},\n",
       " {'category': 'Churches & Cathedrals',\n",
       "  'total_places': 35,\n",
       "  'avg_reating': 4.312437810945274,\n",
       "  'total_rev': 1005},\n",
       " {'category': 'Waterfalls',\n",
       "  'total_places': 7,\n",
       "  'avg_reating': 4.361836183618362,\n",
       "  'total_rev': 1111},\n",
       " {'category': 'Military Museums',\n",
       "  'total_places': 1,\n",
       "  'avg_reating': 4.315789473684211,\n",
       "  'total_rev': 152},\n",
       " {'category': 'Flea & Street Markets',\n",
       "  'total_places': 8,\n",
       "  'avg_reating': 4.031466913465988,\n",
       "  'total_rev': 2161},\n",
       " {'category': 'Casinos',\n",
       "  'total_places': 11,\n",
       "  'avg_reating': 3.8411732152739346,\n",
       "  'total_rev': 1807},\n",
       " {'category': 'Lighthouses',\n",
       "  'total_places': 1,\n",
       "  'avg_reating': 3.935560859188544,\n",
       "  'total_rev': 419},\n",
       " {'category': 'Ancient Ruins',\n",
       "  'total_places': 2,\n",
       "  'avg_reating': 3.952851711026616,\n",
       "  'total_rev': 1315},\n",
       " {'category': 'Bodies of Water',\n",
       "  'total_places': 7,\n",
       "  'avg_reating': 4.030042918454936,\n",
       "  'total_rev': 233},\n",
       " {'category': 'Shopping Malls',\n",
       "  'total_places': 6,\n",
       "  'avg_reating': 3.557603686635945,\n",
       "  'total_rev': 217},\n",
       " {'category': 'Other Food & Drink',\n",
       "  'total_places': 3,\n",
       "  'avg_reating': 4.5,\n",
       "  'total_rev': 66},\n",
       " {'category': 'Islands',\n",
       "  'total_places': 6,\n",
       "  'avg_reating': 4.154471544715447,\n",
       "  'total_rev': 123},\n",
       " {'category': 'Speciality Museums',\n",
       "  'total_places': 9,\n",
       "  'avg_reating': 4.066901408450704,\n",
       "  'total_rev': 284},\n",
       " {'category': 'Art Galleries',\n",
       "  'total_places': 13,\n",
       "  'avg_reating': 4.378504672897196,\n",
       "  'total_rev': 214},\n",
       " {'category': 'Theatres',\n",
       "  'total_places': 1,\n",
       "  'avg_reating': 4.379310344827586,\n",
       "  'total_rev': 58},\n",
       " {'category': 'Dams',\n",
       "  'total_places': 2,\n",
       "  'avg_reating': 4.391304347826087,\n",
       "  'total_rev': 46},\n",
       " {'category': 'Nature & Wildlife Areas',\n",
       "  'total_places': 11,\n",
       "  'avg_reating': 3.8996960486322187,\n",
       "  'total_rev': 329},\n",
       " {'category': 'Libraries',\n",
       "  'total_places': 1,\n",
       "  'avg_reating': 4.518518518518518,\n",
       "  'total_rev': 27},\n",
       " {'category': 'Parks',\n",
       "  'total_places': 3,\n",
       "  'avg_reating': 3.732394366197183,\n",
       "  'total_rev': 71},\n",
       " {'category': 'Historic Walking Areas',\n",
       "  'total_places': 1,\n",
       "  'avg_reating': 4.0,\n",
       "  'total_rev': 42},\n",
       " {'category': 'National Parks',\n",
       "  'total_places': 1,\n",
       "  'avg_reating': 4.146341463414634,\n",
       "  'total_rev': 41},\n",
       " {'category': 'Science Museums',\n",
       "  'total_places': 1,\n",
       "  'avg_reating': 3.8979591836734695,\n",
       "  'total_rev': 49},\n",
       " {'category': 'Beach & Pool Clubs',\n",
       "  'total_places': 1,\n",
       "  'avg_reating': 4.28125,\n",
       "  'total_rev': 32},\n",
       " {'category': 'Gardens',\n",
       "  'total_places': 3,\n",
       "  'avg_reating': 3.8181818181818183,\n",
       "  'total_rev': 66},\n",
       " {'category': 'History Museums',\n",
       "  'total_places': 1,\n",
       "  'avg_reating': 3.7333333333333334,\n",
       "  'total_rev': 45},\n",
       " {'category': 'Music Festivals',\n",
       "  'total_places': 1,\n",
       "  'avg_reating': 4.363636363636363,\n",
       "  'total_rev': 11},\n",
       " {'category': 'Water Parks',\n",
       "  'total_places': 3,\n",
       "  'avg_reating': 3.5454545454545454,\n",
       "  'total_rev': 99},\n",
       " {'category': 'Zoos', 'total_places': 1, 'avg_reating': 4.75, 'total_rev': 8},\n",
       " {'category': 'Monuments & Statues',\n",
       "  'total_places': 4,\n",
       "  'avg_reating': 3.9047619047619047,\n",
       "  'total_rev': 21},\n",
       " {'category': 'Other Ranches & Farms',\n",
       "  'total_places': 1,\n",
       "  'avg_reating': 4.571428571428571,\n",
       "  'total_rev': 7},\n",
       " {'category': 'Scenic Walking Areas',\n",
       "  'total_places': 1,\n",
       "  'avg_reating': 3.75,\n",
       "  'total_rev': 8},\n",
       " {'category': 'Caverns & Caves',\n",
       "  'total_places': 2,\n",
       "  'avg_reating': 3.5,\n",
       "  'total_rev': 8},\n",
       " {'category': 'Observatories & Planetariums',\n",
       "  'total_places': 1,\n",
       "  'avg_reating': 4.0,\n",
       "  'total_rev': 2},\n",
       " {'category': 'Sports Complexes',\n",
       "  'total_places': 1,\n",
       "  'avg_reating': 3.6,\n",
       "  'total_rev': 5},\n",
       " {'category': 'Aquariums',\n",
       "  'total_places': 2,\n",
       "  'avg_reating': 3.3157894736842106,\n",
       "  'total_rev': 38},\n",
       " {'category': 'Antique Stores',\n",
       "  'total_places': 1,\n",
       "  'avg_reating': 5.0,\n",
       "  'total_rev': 1},\n",
       " {'category': 'Arenas & Stadiums',\n",
       "  'total_places': 1,\n",
       "  'avg_reating': 3.0,\n",
       "  'total_rev': 5}]"
      ]
     },
     "execution_count": 57,
     "metadata": {},
     "output_type": "execute_result"
    }
   ],
   "source": [
    "final_lst = []\n",
    "for i in range(0, len(lst)):\n",
    "    dt = {'category':lst[i], 'total_places':place_counts[i], 'avg_reating':rel[i], 'total_rev':totalrev[i]}\n",
    "    final_lst.append(dt)\n",
    "final_lst"
   ]
  },
  {
   "cell_type": "code",
   "execution_count": 58,
   "metadata": {},
   "outputs": [],
   "source": [
    "df1 = pd.DataFrame(final_lst)"
   ]
  },
  {
   "cell_type": "code",
   "execution_count": 59,
   "metadata": {},
   "outputs": [],
   "source": [
    "df1.to_excel('D://features.xlsx')"
   ]
  },
  {
   "cell_type": "code",
   "execution_count": null,
   "metadata": {},
   "outputs": [],
   "source": []
  }
 ],
 "metadata": {
  "kernelspec": {
   "display_name": "Python 3",
   "language": "python",
   "name": "python3"
  },
  "language_info": {
   "codemirror_mode": {
    "name": "ipython",
    "version": 3
   },
   "file_extension": ".py",
   "mimetype": "text/x-python",
   "name": "python",
   "nbconvert_exporter": "python",
   "pygments_lexer": "ipython3",
   "version": "3.6.5"
  }
 },
 "nbformat": 4,
 "nbformat_minor": 2
}
